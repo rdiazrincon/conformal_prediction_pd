{
 "cells": [
  {
   "cell_type": "code",
   "execution_count": 476,
   "id": "ba63a74f",
   "metadata": {},
   "outputs": [],
   "source": [
    "import whisper"
   ]
  },
  {
   "cell_type": "code",
   "execution_count": 477,
   "id": "42c28721",
   "metadata": {},
   "outputs": [
    {
     "name": "stdout",
     "output_type": "stream",
     "text": [
      "/home/ic3/diaz_rincon/motor_fluctuations_pd\n"
     ]
    }
   ],
   "source": [
    "!pwd"
   ]
  },
  {
   "cell_type": "code",
   "execution_count": null,
   "id": "083612ef",
   "metadata": {},
   "outputs": [],
   "source": [
    "# Load the model (base is good for most cases, or use 'small' or 'medium' for better accuracy)\n",
    "model = whisper.load_model(\"base\")\n",
    "\n",
    "# Transcribe the audio files\n",
    "transcript = model.transcribe(\"data/gym_recommendations.m4a\")\n",
    "\n",
    "# Save or print transcripts\n",
    "with open(\"gym_recs.txt\", \"w\") as f:\n",
    "    f.write(transcript[\"text\"])"
   ]
  }
 ],
 "metadata": {
  "kernelspec": {
   "display_name": "Python 3 (ipykernel)",
   "language": "python",
   "name": "python3"
  },
  "language_info": {
   "codemirror_mode": {
    "name": "ipython",
    "version": 3
   },
   "file_extension": ".py",
   "mimetype": "text/x-python",
   "name": "python",
   "nbconvert_exporter": "python",
   "pygments_lexer": "ipython3",
   "version": "3.10.8"
  }
 },
 "nbformat": 4,
 "nbformat_minor": 5
}
